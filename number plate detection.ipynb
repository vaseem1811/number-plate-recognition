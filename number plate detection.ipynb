{
  "nbformat": 4,
  "nbformat_minor": 0,
  "metadata": {
    "colab": {
      "name": "Untitled8.ipynb",
      "version": "0.3.2",
      "provenance": []
    },
    "kernelspec": {
      "name": "python3",
      "display_name": "Python 3"
    }
  },
  "cells": [
    {
      "cell_type": "code",
      "metadata": {
        "id": "KCTPMnsVoYkZ",
        "colab_type": "code",
        "colab": {}
      },
      "source": [
        "from keras.applications.vgg16 import VGG16\n",
        "import cv2\n",
        "model = VGG16()"
      ],
      "execution_count": 0,
      "outputs": []
    },
    {
      "cell_type": "code",
      "metadata": {
        "id": "94Rxx0mvo0c3",
        "colab_type": "code",
        "colab": {}
      },
      "source": [
        "from keras.applications.vgg16 import VGG16\n",
        "model = VGG16()\n",
        "print(model.summary())"
      ],
      "execution_count": 0,
      "outputs": []
    },
    {
      "cell_type": "code",
      "metadata": {
        "id": "BjwzeEMCo84d",
        "colab_type": "code",
        "colab": {}
      },
      "source": [
        "\n",
        "from keras.applications.vgg16 import VGG16\n",
        "from keras.utils.vis_utils import plot_model\n",
        "model = VGG16()\n",
        "plot_model(model, to_file='vgg.png')\n",
        "from keras.applications.vgg16 import VGG16\n",
        "from keras.utils.vis_utils import plot_model\n",
        "model = VGG16()\n",
        "plot_model(model, to_file='vgg.png')"
      ],
      "execution_count": 0,
      "outputs": []
    },
    {
      "cell_type": "code",
      "metadata": {
        "id": "x_WPfMApo_Rw",
        "colab_type": "code",
        "colab": {}
      },
      "source": [
        "\n",
        "from keras.applications.vgg16 import VGG16\n",
        "model = VGG16()"
      ],
      "execution_count": 0,
      "outputs": []
    },
    {
      "cell_type": "code",
      "metadata": {
        "id": "WN9KgNEspJ0n",
        "colab_type": "code",
        "colab": {}
      },
      "source": [
        "\n",
        "from keras.preprocessing.image import load_img\n",
        "# load an image from file\n",
        "image = load_img('01.png', target_size=(224, 224))"
      ],
      "execution_count": 0,
      "outputs": []
    },
    {
      "cell_type": "code",
      "metadata": {
        "id": "2zLZO2HcpOmf",
        "colab_type": "code",
        "colab": {}
      },
      "source": [
        "from keras.preprocessing.image import img_to_array\n",
        "# convert the image pixels to a numpy array\n",
        "image = img_to_array(image)"
      ],
      "execution_count": 0,
      "outputs": []
    },
    {
      "cell_type": "code",
      "metadata": {
        "id": "5f-CBG_8pThX",
        "colab_type": "code",
        "colab": {}
      },
      "source": [
        "\n",
        "from keras.applications.vgg16 import preprocess_input\n",
        "# prepare the image for the VGG model\n",
        "image = preprocess_input(image)"
      ],
      "execution_count": 0,
      "outputs": []
    },
    {
      "cell_type": "code",
      "metadata": {
        "id": "WK_hPwTvpcH2",
        "colab_type": "code",
        "colab": {}
      },
      "source": [
        "\n",
        "from keras.applications.vgg16 import decode_predictions\n",
        "label = decode_predictions(yhat)\n",
        "label = label[0][0]\n"
      ],
      "execution_count": 0,
      "outputs": []
    }
  ]
}